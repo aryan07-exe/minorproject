{
 "cells": [
  {
   "cell_type": "code",
   "execution_count": 6,
   "metadata": {},
   "outputs": [
    {
     "name": "stdout",
     "output_type": "stream",
     "text": [
      "An error occurred: HTTPSConnectionPool(host='newsapi.org', port=443): Max retries exceeded with url: /v2/everything?q=champions+trophy&language=en&sortBy=relevancy&pageSize=5 (Caused by NameResolutionError(\"<urllib3.connection.HTTPSConnection object at 0x0000021A4DC27530>: Failed to resolve 'newsapi.org' ([Errno 11001] getaddrinfo failed)\"))\n"
     ]
    }
   ],
   "source": [
    "from newsapi import NewsApiClient\n",
    "\n",
    "# Initialize the News API client with your API key\n",
    "API_KEY = 'dec9ac3db2ca442a84357dcb47b5cf9a'\n",
    "newsapi = NewsApiClient(api_key=API_KEY)\n",
    "\n",
    "def fetch_news(headline):\n",
    "    try:\n",
    "        # Fetch articles based on the input headline\n",
    "        articles = newsapi.get_everything(q=headline, language='en', sort_by='relevancy', page_size=5)\n",
    "\n",
    "        # Check if articles are fetched successfully\n",
    "        if articles['status'] == 'ok' and articles['totalResults'] > 0:\n",
    "            print(f\"\\nTop news articles for the headline: '{headline}'\\n\")\n",
    "            for idx, article in enumerate(articles['articles'], start=1):\n",
    "                print(f\"{idx}. Title: {article['title']}\")\n",
    "                print(f\"   Source: {article['source']['name']}\")\n",
    "                print(f\"   Published At: {article['publishedAt']}\")\n",
    "                print(f\"   URL: {article['url']}\\n\")\n",
    "        else:\n",
    "            print(\"No articles found for the given headline.\")\n",
    "    except Exception as e:\n",
    "        print(f\"An error occurred: {e}\")\n",
    "\n",
    "if __name__ == \"__main__\":\n",
    "    # Take headline input from the user\n",
    "    user_headline = input(\"Enter a headline to search for related news: \")\n",
    "    fetch_news(user_headline)\n"
   ]
  }
 ],
 "metadata": {
  "kernelspec": {
   "display_name": "Python 3",
   "language": "python",
   "name": "python3"
  },
  "language_info": {
   "codemirror_mode": {
    "name": "ipython",
    "version": 3
   },
   "file_extension": ".py",
   "mimetype": "text/x-python",
   "name": "python",
   "nbconvert_exporter": "python",
   "pygments_lexer": "ipython3",
   "version": "3.12.4"
  }
 },
 "nbformat": 4,
 "nbformat_minor": 2
}
